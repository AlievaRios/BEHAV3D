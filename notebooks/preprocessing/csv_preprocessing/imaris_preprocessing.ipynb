{
 "cells": [
  {
   "cell_type": "markdown",
   "metadata": {},
   "source": [
    "### Imaris preprocessing\n",
    "Imaris outputs their calculated statistics in a certain .csv format that is not yet compatible with BEHAV3D processing. <br>\n",
    "You therefore have to preprocess the resulting CSVs before applying BEHAV3D analysis.\n",
    "\n",
    "Additionally, as Imaris uses surfaces that can not be extracted as voxel-based segments, the features \"organoid contact\", \"t-cell contact\" and \"dead dye mean\" can not be calculated outside of Imaris and thus must be calculated and extracted in Imaris\n",
    "\n",
    "The following code preprocesses the Imaris segments based on their:\n",
    "- centroid position (zyx)\n",
    "- A distance to organoid channel that needs to be set up inside of Imaris and exported as an additonal channel\n",
    "- The statistics of the dead dye mean, which is based on a dead dye channel"
   ]
  },
  {
   "cell_type": "code",
   "execution_count": null,
   "metadata": {},
   "outputs": [],
   "source": [
    "from behav3d.preprocessing.imaris_preprocessing import run_imaris_preprocessing"
   ]
  },
  {
   "cell_type": "code",
   "execution_count": null,
   "metadata": {},
   "outputs": [],
   "source": [
    "imaris_positions_csv = \"/Users/samdeblank/Documents/1.projects/BHVD_BEHAV3D/BEHAV3D-ilastik/test/imaris_run/imaris_preprocess_test/aim_dp1_exp13_img004_dietcart_n3_lg_car2_CD4_Position.csv\"\n",
    "imaris_dead_dye_mean_csv= \"/Users/samdeblank/Documents/1.projects/BHVD_BEHAV3D/BEHAV3D-ilastik/test/imaris_run/imaris_preprocess_test/aim_dp1_exp13_img004_dietcart_n3_lg_car2_CD4_Intensity_Mean_Ch=5_Img=1.csv\"\n",
    "imaris_organoid_distance_csv = \"/Users/samdeblank/Documents/1.projects/BHVD_BEHAV3D/BEHAV3D-ilastik/test/imaris_run/imaris_preprocess_test/aim_dp1_exp13_img004_dietcart_n3_lg_car2_CD4_Shortest_Distance_to_Surfaces_Surfaces=Leukemia.csv\"\n",
    "imaris_tcell_distance_csv = \"/Users/samdeblank/Documents/1.projects/BHVD_BEHAV3D/BEHAV3D-ilastik/test/imaris_run/imaris_preprocess_test/aim_dp1_exp13_img004_dietcart_n3_lg_car2_CD4_Shortest_Distance_to_Surfaces_Surfaces=CD8.csv\"\n",
    "\n",
    "\n",
    "# output_path can be left empty to automatically name the output \n",
    "# and put it in the same folder as \"imaris_positions_csv\"\n",
    "processed_imaris_output_path = \"/Users/samdeblank/Documents/1.projects/BHVD_BEHAV3D/BEHAV3D-ilastik/test/imaris_run/imaris_preprocess_test/df_imaris_preprocessed.csv\"\n",
    "\n",
    "run_imaris_preprocessing(\n",
    "    df_positions_path=imaris_positions_csv,\n",
    "    df_organoid_distances_path=imaris_organoid_distance_csv,\n",
    "    df_tcell_distances_path=imaris_tcell_distance_csv,\n",
    "    df_dead_dye_means_path=imaris_dead_dye_mean_csv,\n",
    "    output_path=processed_imaris_output_path\n",
    ")"
   ]
  }
 ],
 "metadata": {
  "language_info": {
   "name": "python"
  }
 },
 "nbformat": 4,
 "nbformat_minor": 2
}
