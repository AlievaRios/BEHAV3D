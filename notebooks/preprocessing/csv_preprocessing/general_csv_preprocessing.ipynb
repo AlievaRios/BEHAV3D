{
 "cells": [
  {
   "cell_type": "markdown",
   "metadata": {},
   "source": []
  },
  {
   "cell_type": "code",
   "execution_count": null,
   "metadata": {},
   "outputs": [],
   "source": [
    "\n"
   ]
  },
  {
   "cell_type": "code",
   "execution_count": null,
   "metadata": {},
   "outputs": [],
   "source": [
    "tracked_csv_path = \"\"\n",
    "\n",
    "pos_x_column_name = \"PositionX\"\n",
    "pos_y_column_name = \"PositionY\"\n",
    "pos_z_column_name = \"PositionZ\"\n",
    "pos_t_column_name = \"Time\"\n",
    "segment_id_column_name = \"SegmentID\"\n",
    "track_id_column_name = \"TrackID\""
   ]
  },
  {
   "cell_type": "code",
   "execution_count": null,
   "metadata": {},
   "outputs": [],
   "source": [
    "transform_csv_to_behav3d(\n",
    "    original_csv = tracked_csv_path,\n",
    "    pos_x_column_name=pos_x_column_name,\n",
    "    pos_y_column_name=pos_y_column_name,\n",
    "    pos_z_column_name=pos_z_column_name,\n",
    "    pos_t_column_name=pos_t_column_name,\n",
    "    segment_id_column_name=segment_id_column_name,\n",
    "    track_id_column_name=track_id_column_name\n",
    ")"
   ]
  }
 ],
 "metadata": {
  "language_info": {
   "name": "python"
  }
 },
 "nbformat": 4,
 "nbformat_minor": 2
}
