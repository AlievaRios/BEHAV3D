{
 "cells": [
  {
   "cell_type": "markdown",
   "metadata": {},
   "source": [
    "# Preprocess tracking .csv to a .csv with BEHAV3D structure\n",
    "\n",
    "This notebook converts any tracking .csv (TrackMate, etc.) into the structure that BEHAV3D requires\n",
    "\n",
    "To work correctly, it requires the following input:\n",
    "- A tracked ***.csv*** containing all tracks and their positions\n",
    "- The various column names that resemble related columns in the BEHAV3D structure"
   ]
  },
  {
   "cell_type": "code",
   "execution_count": 1,
   "metadata": {},
   "outputs": [],
   "source": [
    "from behav3d.preprocessing.csv.general_csv_processing import transform_csv_to_behav3d_input"
   ]
  },
  {
   "cell_type": "markdown",
   "metadata": {},
   "source": [
    "### Supply tracked .csv and set the column names to be transformed"
   ]
  },
  {
   "cell_type": "code",
   "execution_count": 2,
   "metadata": {},
   "outputs": [],
   "source": [
    "tracked_csv_path = \"/Users/samdeblank/Downloads/AIM_MB2_Exp58_Img003_donor899_MA quantified_Position.csv\"\n",
    "\n",
    "pos_x_column_name = \"Position X\"\n",
    "pos_y_column_name = \"Position Y\"\n",
    "pos_z_column_name = \"Position Z\"\n",
    "pos_t_column_name = \"Time\"\n",
    "segment_id_column_name = \"ID\"\n",
    "track_id_column_name = \"TrackID\""
   ]
  },
  {
   "cell_type": "code",
   "execution_count": 3,
   "metadata": {},
   "outputs": [],
   "source": [
    "transform_csv_to_behav3d_input(\n",
    "    original_csv = tracked_csv_path,\n",
    "    pos_x_column_name=pos_x_column_name,\n",
    "    pos_y_column_name=pos_y_column_name,\n",
    "    pos_z_column_name=pos_z_column_name,\n",
    "    pos_t_column_name=pos_t_column_name,\n",
    "    segment_id_column_name=segment_id_column_name,\n",
    "    track_id_column_name=track_id_column_name\n",
    ")"
   ]
  }
 ],
 "metadata": {
  "kernelspec": {
   "display_name": "test",
   "language": "python",
   "name": "python3"
  },
  "language_info": {
   "codemirror_mode": {
    "name": "ipython",
    "version": 3
   },
   "file_extension": ".py",
   "mimetype": "text/x-python",
   "name": "python",
   "nbconvert_exporter": "python",
   "pygments_lexer": "ipython3",
   "version": "3.10.0"
  }
 },
 "nbformat": 4,
 "nbformat_minor": 2
}
