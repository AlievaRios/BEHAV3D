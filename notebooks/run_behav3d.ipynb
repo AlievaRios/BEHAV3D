{
 "cells": [
  {
   "cell_type": "code",
   "execution_count": 1,
   "metadata": {},
   "outputs": [
    {
     "name": "stderr",
     "output_type": "stream",
     "text": [
      "/Users/samdeblank/opt/anaconda3/envs/behav3d/lib/python3.11/site-packages/tqdm/auto.py:21: TqdmWarning: IProgress not found. Please update jupyter and ipywidgets. See https://ipywidgets.readthedocs.io/en/stable/user_install.html\n"
     ]
    },
    {
     "data": {
      "text/plain": [
       "<Figure size 100x100 with 0 Axes>"
      ]
     },
     "metadata": {},
     "output_type": "display_data"
    }
   ],
   "source": [
    "from behav3d.segmentation.ilastik_segmentation import run_ilastik_segmentation\n",
    "from behav3d.tracking.trackmate_tracking import (\n",
    "    run_trackmate_tcells, \n",
    "    run_trackmate_organoids\n",
    ")\n",
    "from behav3d.analysis.feature_extraction import (\n",
    "    calculate_track_features,\n",
    "    filter_tracks,\n",
    "    summarize_track_features\n",
    ")\n",
    "from behav3d.analysis.tcell_analysis import run_tcell_analysis\n",
    "import yaml\n",
    "import pandas as pd"
   ]
  },
  {
   "cell_type": "markdown",
   "metadata": {},
   "source": [
    "### Load in config and metadata csv\n",
    "Make sure to edit the metadata .csv accordingly\n",
    "\n",
    "\n",
    "BEHAV3D requires the input to be an .h5 file (image_path) with a 4D image in a specific internal path (image_internal_path)\n",
    "\n",
    "When processing from the raw image, make sure to supply:\n",
    "- image_path\n",
    "- image_internal_path\n",
    "\n",
    "BEHAV3D can work with custom preprocessing by doing the segmentation and tracking steps yourself and placing the results as .tiff (with specific sample naming in the output directory and supplying the tcell_tracks.csv containign the cell positions in the metadata .csv:\n",
    "- the segmented t-cells (<sample_name>_tcells_tracked.tiff)\n",
    "- segmented organoids (<sample_name>_organoids_tracked.tiff)\n",
    "- \"tcell_tracks.csv\" in the metadata .csv\n"
   ]
  },
  {
   "cell_type": "code",
   "execution_count": 4,
   "metadata": {},
   "outputs": [
    {
     "name": "stdout",
     "output_type": "stream",
     "text": [
      "output_dir: /Users/samdeblank/Documents/1.projects/BHVD_BEHAV3D/BEHAV3D-ilastik/test/BEHAV3D_run/ilastik_output\n",
      "metadata_csv_path: /Users/samdeblank/Documents/1.projects/BHVD_BEHAV3D/BEHAV3D-ilastik/test/BEHAV3D_run/metadata.csv\n",
      "ilastik_path: /Applications/ilastik-1.4.0b27-OSX.app/Contents/ilastik-release/run_ilastik.sh\n",
      "ilastik_pixel_classifier_model: /Users/samdeblank/Documents/1.projects/BHVD_BEHAV3D/BEHAV3D-ilastik/ilastik_pipelines/AIM_MB2_pixel_class.ilp\n",
      "ilastik_organoid_segmentation_model: /Users/samdeblank/Documents/1.projects/BHVD_BEHAV3D/BEHAV3D-ilastik/ilastik_pipelines/AIM_MB2_organoid_class.ilp\n",
      "ilastik_tcell_segmentation_model: /Users/samdeblank/Documents/1.projects/BHVD_BEHAV3D/BEHAV3D-ilastik/ilastik_pipelines/AIM_MB2_tcell_class.ilp\n",
      "ilastik_organoid_postprocessing_model: /Users/samdeblank/Documents/1.projects/BHVD_BEHAV3D/BEHAV3D-ilastik/ilastik_pipelines/AIM_MB2_object_splitter.ilp\n",
      "ilastik_tcell_postprocessing_model: /Users/samdeblank/Documents/1.projects/BHVD_BEHAV3D/BEHAV3D-ilastik/ilastik_pipelines/AIM_MB2_object_splitter.ilp\n",
      "randomforest_path: \n",
      "tcell_exp_duration: 300\n",
      "tcell_min_track_length: 50\n",
      "tcell_max_track_length: 50\n",
      "organoid_min_volume: 1000\n",
      "organoid_min_track_length: 40\n",
      "organoid_exp_duration: 48\n",
      "umap_minimal_distance: 0.1\n",
      "umap_n_neighbors: 5\n",
      "nr_of_clusters: 6\n"
     ]
    },
    {
     "data": {
      "text/html": [
       "<div>\n",
       "<style scoped>\n",
       "    .dataframe tbody tr th:only-of-type {\n",
       "        vertical-align: middle;\n",
       "    }\n",
       "\n",
       "    .dataframe tbody tr th {\n",
       "        vertical-align: top;\n",
       "    }\n",
       "\n",
       "    .dataframe thead th {\n",
       "        text-align: right;\n",
       "    }\n",
       "</style>\n",
       "<table border=\"1\" class=\"dataframe\">\n",
       "  <thead>\n",
       "    <tr style=\"text-align: right;\">\n",
       "      <th></th>\n",
       "      <th>sample_name</th>\n",
       "      <th>organoid_line</th>\n",
       "      <th>tcell_line</th>\n",
       "      <th>exp_nr</th>\n",
       "      <th>well</th>\n",
       "      <th>dead_dye_channel</th>\n",
       "      <th>dead_dye_threshold</th>\n",
       "      <th>contact_threshold</th>\n",
       "      <th>pixel_distance_xy</th>\n",
       "      <th>pixel_distance_z</th>\n",
       "      <th>distance_unit</th>\n",
       "      <th>time_interval</th>\n",
       "      <th>time_unit</th>\n",
       "      <th>image_path</th>\n",
       "      <th>image_internal_path</th>\n",
       "      <th>tcell_track_csv</th>\n",
       "    </tr>\n",
       "  </thead>\n",
       "  <tbody>\n",
       "    <tr>\n",
       "      <th>0</th>\n",
       "      <td>AIM_MB2_Exp58_Img003_donor899</td>\n",
       "      <td>10T</td>\n",
       "      <td>CART_WT1</td>\n",
       "      <td>1</td>\n",
       "      <td>well0</td>\n",
       "      <td>3</td>\n",
       "      <td>3000</td>\n",
       "      <td>3.6</td>\n",
       "      <td>1.38</td>\n",
       "      <td>1.38</td>\n",
       "      <td>μm</td>\n",
       "      <td>2</td>\n",
       "      <td>m</td>\n",
       "      <td>/Users/samdeblank/Documents/1.projects/BHVD_BE...</td>\n",
       "      <td>/image</td>\n",
       "      <td>/Users/samdeblank/Documents/1.projects/BHVD_BE...</td>\n",
       "    </tr>\n",
       "  </tbody>\n",
       "</table>\n",
       "</div>"
      ],
      "text/plain": [
       "                     sample_name organoid_line tcell_line  exp_nr   well  \\\n",
       "0  AIM_MB2_Exp58_Img003_donor899           10T   CART_WT1       1  well0   \n",
       "\n",
       "   dead_dye_channel  dead_dye_threshold  contact_threshold  pixel_distance_xy  \\\n",
       "0                 3                3000                3.6               1.38   \n",
       "\n",
       "   pixel_distance_z distance_unit  time_interval time_unit  \\\n",
       "0              1.38            μm              2         m   \n",
       "\n",
       "                                          image_path image_internal_path  \\\n",
       "0  /Users/samdeblank/Documents/1.projects/BHVD_BE...              /image   \n",
       "\n",
       "                                     tcell_track_csv  \n",
       "0  /Users/samdeblank/Documents/1.projects/BHVD_BE...  "
      ]
     },
     "execution_count": 4,
     "metadata": {},
     "output_type": "execute_result"
    }
   ],
   "source": [
    "# Change this path to your config file\n",
    "config_path = \"/Users/samdeblank/Documents/1.projects/BHVD_BEHAV3D/BEHAV3D-ilastik/test/BEHAV3D_run/config.yml\"\n",
    "\n",
    "with open(config_path, \"r\") as parameters:\n",
    "        config=yaml.load(parameters, Loader=yaml.SafeLoader)\n",
    "metadata = pd.read_csv(config[\"metadata_csv_path\"])\n",
    "\n",
    "for k,v in config.items():\n",
    "        print(f\"{k}: {v}\")\n",
    "\n",
    "metadata"
   ]
  },
  {
   "cell_type": "markdown",
   "metadata": {},
   "source": [
    "### Performing ilastik segmentation\n",
    "Uses the pretrained supplied ilastik models for pixel classification, object detection and object postprocessing (object splitting) for both T cells and Organoids/Tumor cells"
   ]
  },
  {
   "cell_type": "code",
   "execution_count": null,
   "metadata": {},
   "outputs": [],
   "source": [
    "run_ilastik_segmentation(config, metadata, verbose=False)"
   ]
  },
  {
   "cell_type": "markdown",
   "metadata": {},
   "source": [
    "### Performing TrackMate tracking\n",
    "Applies TrackMate for the tracking of the T cells and organoids/tumor cells over all timepoints"
   ]
  },
  {
   "cell_type": "code",
   "execution_count": null,
   "metadata": {},
   "outputs": [],
   "source": [
    "run_trackmate_tcells(config, metadata, verbose=False)\n",
    "run_trackmate_organoids(config, metadata, verbose=False)"
   ]
  },
  {
   "cell_type": "markdown",
   "metadata": {},
   "source": [
    "### Calculate the track features, filter tracks and summarize track features\n",
    "\n",
    "**calculate_track_features** <br>\n",
    "Calculates movement, contact and intensity features for each timepoint in all tracks per experiment\n",
    "\n",
    "**filter_tracks** <br>\n",
    "Filter out tracks based on:\n",
    "- Maximum experiment length (tcell_exp_duration)    \n",
    "- Minimum track length (tcell_min_track_length)\n",
    "- Tracks starting at timepoint 1 with a dead dye mean over the dead_dye_threshold (dead_dye_threshold)\n",
    "\n",
    "Additonally, all tracks are cut down to:\n",
    "- Maximum track length (tcell_max_track_length)\n",
    "\n",
    "**summarize track features** <br>\n",
    "Summarizes the features into one value for each TrackID per experiment\n",
    "\n"
   ]
  },
  {
   "cell_type": "code",
   "execution_count": null,
   "metadata": {},
   "outputs": [],
   "source": [
    "df_tracks = calculate_track_features(config, metadata, cell_type=\"tcells\")\n",
    "df_tracks_filt = filter_tracks(df_tracks, config, metadata)\n",
    "df_tracks_summ = summarize_track_features(df_tracks_filt, config)"
   ]
  },
  {
   "cell_type": "code",
   "execution_count": null,
   "metadata": {},
   "outputs": [],
   "source": [
    "df_tracks = calculate_track_features(config, metadata, cell_type=\"organoids\")"
   ]
  },
  {
   "cell_type": "markdown",
   "metadata": {},
   "source": [
    "### Perform data analysis"
   ]
  },
  {
   "cell_type": "markdown",
   "metadata": {},
   "source": []
  },
  {
   "cell_type": "code",
   "execution_count": 3,
   "metadata": {},
   "outputs": [
    {
     "name": "stdout",
     "output_type": "stream",
     "text": [
      "- Calculating the dynamic time warping distance matrix\n",
      "- Fitting the dynamic time warping to a UMAP\n"
     ]
    },
    {
     "name": "stderr",
     "output_type": "stream",
     "text": [
      "OMP: Info #276: omp_set_nested routine deprecated, please use omp_set_max_active_levels instead.\n"
     ]
    },
    {
     "name": "stdout",
     "output_type": "stream",
     "text": [
      "- Performing clustering on the UMAP data\n",
      "- Writing clustered tracks to /Users/samdeblank/Documents/1.projects/BHVD_BEHAV3D/BEHAV3D-ilastik/test/BEHAV3D_run/ilastik_output/BEHAV3D_UMAP_clusters.csv\n",
      "- Producing clustered UMAP plots with displayed Track features\n",
      "- Producing heatmaps with summarized cluster features\n",
      "- Producing percentage plots of each cluster per combination of T-cell and organoid line\n",
      "- Writing summarized tracks to /Users/samdeblank/Documents/1.projects/BHVD_BEHAV3D/BEHAV3D-ilastik/test/BEHAV3D_run/ilastik_output/BEHAV3D_UMAP_cluster_percentages.csv\n"
     ]
    }
   ],
   "source": [
    "df_tracks_clustered = run_tcell_analysis(config)"
   ]
  }
 ],
 "metadata": {
  "kernelspec": {
   "display_name": "Python 3.11.5 ('behav3d')",
   "language": "python",
   "name": "python3"
  },
  "language_info": {
   "codemirror_mode": {
    "name": "ipython",
    "version": 3
   },
   "file_extension": ".py",
   "mimetype": "text/x-python",
   "name": "python",
   "nbconvert_exporter": "python",
   "pygments_lexer": "ipython3",
   "version": "3.11.5"
  },
  "orig_nbformat": 4,
  "vscode": {
   "interpreter": {
    "hash": "fb06b0a1b56a1aebe32ed36e6d514e80a393d3048d99caaa6684ab7dff46c3ff"
   }
  }
 },
 "nbformat": 4,
 "nbformat_minor": 2
}
