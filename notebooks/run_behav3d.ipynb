{
 "cells": [
  {
   "cell_type": "code",
   "execution_count": null,
   "metadata": {},
   "outputs": [],
   "source": [
    "from behav3d.segmentation.ilastik_segmentation import run_ilastik_segmentation\n",
    "from behav3d.tracking.trackmate_tracking import (\n",
    "    run_trackmate_tcells, \n",
    "    run_trackmate_organoids\n",
    ")\n",
    "from behav3d.analysis.feature_extraction import (\n",
    "    calculate_track_features,\n",
    "    filter_tracks,\n",
    "    summarize_track_features\n",
    ")\n",
    "import yaml\n",
    "import pandas as pd"
   ]
  },
  {
   "cell_type": "markdown",
   "metadata": {},
   "source": [
    "### Load in config and metadata csv\n",
    "Make sure to edit the metadata .csv accordingly\n",
    "\n",
    "\n",
    "BEHAV3D requires the input to be an .h5 file (image_path) with a 4D image in a specific internal path (image_internal_path)\n",
    "\n",
    "When processing from the raw image, make sure to supply:\n",
    "- image_path\n",
    "- image_internal_path\n",
    "\n",
    "BEHAV3D can work with custom preprocessing by doing the segmentation and tracking steps yourself and placing the results as .tiff (with specific sample naming in the output directory and supplying the tcell_tracks.csv containign the cell positions in the metadata .csv:\n",
    "- the segmented t-cells (<sample_name>_tcells_tracked.tiff)\n",
    "- segmented organoids (<sample_name>_organoids_tracked.tiff)\n",
    "- \"tcell_tracks.csv\" in the metadata .csv\n"
   ]
  },
  {
   "cell_type": "code",
   "execution_count": null,
   "metadata": {},
   "outputs": [],
   "source": [
    "# Change this path to your config file\n",
    "config_path = \"/Users/samdeblank/Documents/1.projects/BHVD_BEHAV3D/BEHAV3D-ilastik/test/BEHAV3D_run/config.yml\"\n",
    "\n",
    "with open(config_path, \"r\") as parameters:\n",
    "        config=yaml.load(parameters, Loader=yaml.SafeLoader)\n",
    "metadata = pd.read_csv(config[\"metadata_csv_path\"])\n",
    "[print(f\"{k}: {v}\") for k,v in config.items()]\n",
    "metadata"
   ]
  },
  {
   "cell_type": "markdown",
   "metadata": {},
   "source": [
    "### Performing ilastik segmentation\n",
    "Uses the pretrained supplied ilastik models for pixel classification, object detection and object postprocessing (object splitting) for both T cells and Organoids/Tumor cells"
   ]
  },
  {
   "cell_type": "code",
   "execution_count": null,
   "metadata": {},
   "outputs": [],
   "source": [
    "run_ilastik_segmentation(config, metadata, verbose=False)"
   ]
  },
  {
   "cell_type": "markdown",
   "metadata": {},
   "source": [
    "### Performing TrackMate tracking\n",
    "Applies TrackMate for the tracking of the T cells and organoids/tumor cells over all timepoints"
   ]
  },
  {
   "cell_type": "code",
   "execution_count": null,
   "metadata": {},
   "outputs": [],
   "source": [
    "run_trackmate_tcells(config, metadata, verbose=False)\n",
    "run_trackmate_organoids(config, metadata, verbose=False)"
   ]
  },
  {
   "cell_type": "markdown",
   "metadata": {},
   "source": [
    "### Calculate the track features, filter tracks and summarize track features\n",
    "\n",
    "**calculate_track_features** <br>\n",
    "Calculates movement, contact and intensity features for each timepoint in all tracks per experiment\n",
    "\n",
    "**filter_tracks** <br>\n",
    "Filter out tracks based on:\n",
    "- Maximum experiment length (tcell_exp_duration)    \n",
    "- Minimum track length (tcell_min_track_length)\n",
    "- Tracks starting at timepoint 1 with a dead dye mean over the dead_dye_threshold (dead_dye_threshold)\n",
    "\n",
    "Additonally, all tracks are cut down to:\n",
    "- Maximum track length (tcell_max_track_length)\n",
    "\n",
    "**summarize track features** <br>\n",
    "Summarizes the features into one value for each TrackID per experiment\n",
    "\n"
   ]
  },
  {
   "cell_type": "code",
   "execution_count": null,
   "metadata": {},
   "outputs": [],
   "source": [
    "df_tracks = calculate_track_features(config, metadata, cell_type=\"tcells\")\n",
    "df_tracks_filt = filter_tracks(df_tracks, config, metadata)\n",
    "df_tracks_summ = summarize_track_features(df_tracks_filt, config)"
   ]
  },
  {
   "cell_type": "code",
   "execution_count": null,
   "metadata": {},
   "outputs": [],
   "source": [
    "df_tracks = calculate_track_features(config, metadata, cell_type=\"organoids\")"
   ]
  },
  {
   "cell_type": "markdown",
   "metadata": {},
   "source": [
    "### Perform data analysis"
   ]
  }
 ],
 "metadata": {
  "kernelspec": {
   "display_name": "Python 3.11.4 ('imagej')",
   "language": "python",
   "name": "python3"
  },
  "language_info": {
   "codemirror_mode": {
    "name": "ipython",
    "version": 3
   },
   "file_extension": ".py",
   "mimetype": "text/x-python",
   "name": "python",
   "nbconvert_exporter": "python",
   "pygments_lexer": "ipython3",
   "version": "3.11.4"
  },
  "orig_nbformat": 4,
  "vscode": {
   "interpreter": {
    "hash": "c992dba1da3cc3e360dd8b0760ce2092a619b2ecb376c38e09e9cfddca338548"
   }
  }
 },
 "nbformat": 4,
 "nbformat_minor": 2
}
