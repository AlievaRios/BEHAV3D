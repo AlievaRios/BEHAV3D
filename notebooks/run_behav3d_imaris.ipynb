{
 "cells": [
  {
   "cell_type": "code",
   "execution_count": 5,
   "metadata": {},
   "outputs": [],
   "source": [
    "from behav3d.preprocessing.imaris_preprocessing import run_imaris_preprocessing\n",
    "from behav3d.analysis.feature_extraction import (\n",
    "    calculate_track_features,\n",
    "    filter_tracks,\n",
    "    summarize_track_features\n",
    ")\n",
    "import yaml\n",
    "import pandas as pd"
   ]
  },
  {
   "cell_type": "markdown",
   "metadata": {},
   "source": [
    "### Imaris preprocessing\n",
    "Imaris outputs their calculated statistics in a certain .csv format that is not yet compatible with BEHAV3D processing. <br>\n",
    "You therefore have to preprocess the resulting CSVs before applying BEHAV3D analysis.\n",
    "\n",
    "Additionally, as Imaris uses surfaces that can not be extracted as voxel-based segments, the features \"organoid contact\", \"t-cell contact\" and \"dead dye mean\" can not be calculated outside of Imaris and thus must be calculated and extracted in Imaris\n",
    "\n",
    "The following code preprocesses the Imaris segments based on their:\n",
    "- centroid position (zyx)\n",
    "- A distance to organoid channel that needs to be set up inside of Imaris and exported as an additonal channel\n",
    "- The statistics of the dead dye mean, which is based on a dead dye channel"
   ]
  },
  {
   "cell_type": "code",
   "execution_count": 2,
   "metadata": {},
   "outputs": [],
   "source": [
    "imaris_positions_csv = \"/Users/samdeblank/Documents/1.projects/BHVD_BEHAV3D/BEHAV3D-ilastik/test/imaris_run/imaris_preprocess_test/aim_dp1_exp13_img004_dietcart_n3_lg_car2_CD4_Position.csv\"\n",
    "imaris_dead_dye_mean_csv= \"/Users/samdeblank/Documents/1.projects/BHVD_BEHAV3D/BEHAV3D-ilastik/test/imaris_run/imaris_preprocess_test/aim_dp1_exp13_img004_dietcart_n3_lg_car2_CD4_Intensity_Mean_Ch=5_Img=1.csv\"\n",
    "imaris_organoid_distance_csv = \"/Users/samdeblank/Documents/1.projects/BHVD_BEHAV3D/BEHAV3D-ilastik/test/imaris_run/imaris_preprocess_test/aim_dp1_exp13_img004_dietcart_n3_lg_car2_CD4_Shortest_Distance_to_Surfaces_Surfaces=Leukemia.csv\"\n",
    "imaris_tcell_distance_csv = \"/Users/samdeblank/Documents/1.projects/BHVD_BEHAV3D/BEHAV3D-ilastik/test/imaris_run/imaris_preprocess_test/aim_dp1_exp13_img004_dietcart_n3_lg_car2_CD4_Shortest_Distance_to_Surfaces_Surfaces=CD8.csv\"\n",
    "\n",
    "\n",
    "# output_path can be left empty to automatically name the output \n",
    "# and put it in the same folder as \"imaris_positions_csv\"\n",
    "processed_imaris_output_path = \"/Users/samdeblank/Documents/1.projects/BHVD_BEHAV3D/BEHAV3D-ilastik/test/imaris_run/imaris_preprocess_test/df_imaris_preprocessed.csv\"\n",
    "\n",
    "run_imaris_preprocessing(\n",
    "    df_positions_path=imaris_positions_csv,\n",
    "    df_organoid_distances_path=imaris_organoid_distance_csv,\n",
    "    df_tcell_distances_path=imaris_tcell_distance_csv,\n",
    "    df_dead_dye_means_path=imaris_dead_dye_mean_csv,\n",
    "    output_path=processed_imaris_output_path\n",
    ")"
   ]
  },
  {
   "cell_type": "markdown",
   "metadata": {},
   "source": [
    "### Load in config and metadata csv\n",
    "Make sure to edit the metadata .csv accordingly and change the \"tcell_track_csv\" to the processed imaris .csv files"
   ]
  },
  {
   "cell_type": "code",
   "execution_count": 12,
   "metadata": {},
   "outputs": [
    {
     "name": "stdout",
     "output_type": "stream",
     "text": [
      "output_dir: /Users/samdeblank/Documents/1.projects/BHVD_BEHAV3D/BEHAV3D-ilastik/test/imaris_run/imaris_preprocess_test/\n",
      "metadata_csv_path: /Users/samdeblank/Documents/1.projects/BHVD_BEHAV3D/BEHAV3D-ilastik/test/imaris_run/imaris_preprocess_test/metadata.csv\n",
      "imaris: True\n",
      "ilastik_path: /Applications/ilastik-1.4.0b27-OSX.app/Contents/ilastik-release/run_ilastik.sh\n",
      "ilastik_pixel_classifier_model: /Users/samdeblank/Documents/1.projects/BHVD_BEHAV3D/BEHAV3D-ilastik/ilastik_pipelines/AIM_MB2_pix_clas_v5.ilp\n",
      "ilastik_organoid_segmentation_model: /Users/samdeblank/Documents/1.projects/BHVD_BEHAV3D/BEHAV3D-ilastik/ilastik_pipelines/AIM_MB2_obj_clas_v4.ilp\n",
      "ilastik_organoid_postprocessing_model: /Users/samdeblank/Documents/1.projects/BHVD_BEHAV3D/BEHAV3D-ilastik/ilastik_pipelines/AIM_MB2_faketrack_obj_split_v4.ilp\n",
      "ilastik_tcell_segmentation_model: /Users/samdeblank/Documents/1.projects/BHVD_BEHAV3D/BEHAV3D-ilastik/ilastik_pipelines/AIM_MB2_obj_clas_TCELL.ilp\n",
      "ilastik_tcell_postprocessing_model: /Users/samdeblank/Documents/1.projects/BHVD_BEHAV3D/BEHAV3D-ilastik/ilastik_pipelines/AIM_MB2_faketrack_obj_split_v4.ilp\n",
      "randomforest_path: \n",
      "tcell_exp_duration: 300\n",
      "tcell_min_track_length: 30\n",
      "tcell_max_track_length: 100\n",
      "organoid_min_volume: 1000\n",
      "organoid_min_track_length: 40\n",
      "organoid_exp_duration: 48\n",
      "umap_minimal_distance: 0.1\n",
      "umap_n_neighbors: 5\n",
      "nr_of_clusters: 6\n",
      "first_1: 86\n",
      "first_2: 95\n",
      "second_1: 145\n",
      "second_2: 154\n",
      "scRNAseq_dataset: /Users/samdeblank/OneDrive - Prinses Maxima Centrum/github/BEHAV3D-2.0/demos/behavioral_transcriptomics_demo/data/scRNA_seq_dataset.rds\n"
     ]
    }
   ],
   "source": [
    "config_path = \"/Users/samdeblank/Documents/1.projects/BHVD_BEHAV3D/BEHAV3D-ilastik/test/imaris_run/imaris_preprocess_test/config.yml\"\n",
    "\n",
    "with open(config_path, \"r\") as parameters:\n",
    "        config=yaml.load(parameters, Loader=yaml.SafeLoader)\n",
    "        \n",
    "# This can already be defined in the config, but this line makes sure \n",
    "# that the processing mode is set to Imaris processing\n",
    "config[\"imaris\"]=True\n",
    "\n",
    "metadata = pd.read_csv(config[\"metadata_csv_path\"])\n",
    "for k,v in config.items():\n",
    "        print(f\"{k}: {v}\")\n",
    "metadata\n"
   ]
  },
  {
   "cell_type": "markdown",
   "metadata": {},
   "source": [
    "### Calculate the track features"
   ]
  },
  {
   "cell_type": "code",
   "execution_count": 4,
   "metadata": {},
   "outputs": [
    {
     "name": "stdout",
     "output_type": "stream",
     "text": [
      "--------------- Processing tcells: AIM_MB2_Exp58_Img003_donor899_MA quantified ---------------\n"
     ]
    },
    {
     "ename": "KeyError",
     "evalue": "'contact_threshold'",
     "output_type": "error",
     "traceback": [
      "\u001b[0;31m---------------------------------------------------------------------------\u001b[0m",
      "\u001b[0;31mKeyError\u001b[0m                                  Traceback (most recent call last)",
      "File \u001b[0;32m~/opt/anaconda3/envs/behav3d/lib/python3.11/site-packages/pandas/core/indexes/base.py:3790\u001b[0m, in \u001b[0;36mIndex.get_loc\u001b[0;34m(self, key)\u001b[0m\n\u001b[1;32m   3789\u001b[0m \u001b[39mtry\u001b[39;00m:\n\u001b[0;32m-> 3790\u001b[0m     \u001b[39mreturn\u001b[39;00m \u001b[39mself\u001b[39;49m\u001b[39m.\u001b[39;49m_engine\u001b[39m.\u001b[39;49mget_loc(casted_key)\n\u001b[1;32m   3791\u001b[0m \u001b[39mexcept\u001b[39;00m \u001b[39mKeyError\u001b[39;00m \u001b[39mas\u001b[39;00m err:\n",
      "File \u001b[0;32mindex.pyx:152\u001b[0m, in \u001b[0;36mpandas._libs.index.IndexEngine.get_loc\u001b[0;34m()\u001b[0m\n",
      "File \u001b[0;32mindex.pyx:181\u001b[0m, in \u001b[0;36mpandas._libs.index.IndexEngine.get_loc\u001b[0;34m()\u001b[0m\n",
      "File \u001b[0;32mpandas/_libs/hashtable_class_helper.pxi:7080\u001b[0m, in \u001b[0;36mpandas._libs.hashtable.PyObjectHashTable.get_item\u001b[0;34m()\u001b[0m\n",
      "File \u001b[0;32mpandas/_libs/hashtable_class_helper.pxi:7088\u001b[0m, in \u001b[0;36mpandas._libs.hashtable.PyObjectHashTable.get_item\u001b[0;34m()\u001b[0m\n",
      "\u001b[0;31mKeyError\u001b[0m: 'contact_threshold'",
      "\nThe above exception was the direct cause of the following exception:\n",
      "\u001b[0;31mKeyError\u001b[0m                                  Traceback (most recent call last)",
      "Cell \u001b[0;32mIn[4], line 1\u001b[0m\n\u001b[0;32m----> 1\u001b[0m df_tracks \u001b[38;5;241m=\u001b[39m \u001b[43mcalculate_track_features\u001b[49m\u001b[43m(\u001b[49m\u001b[43mconfig\u001b[49m\u001b[43m,\u001b[49m\u001b[43m \u001b[49m\u001b[43mmetadata\u001b[49m\u001b[43m)\u001b[49m\n\u001b[1;32m      2\u001b[0m df_tracks_filt \u001b[38;5;241m=\u001b[39m filter_tracks(df_tracks, config, metadata)\n\u001b[1;32m      3\u001b[0m df_tracks_summ \u001b[38;5;241m=\u001b[39m summarize_track_features(df_tracks_filt, config)\n",
      "File \u001b[0;32m~/Library/CloudStorage/OneDrive-PrinsesMaximaCentrum/github/BEHAV3D-opensource/behav3d/analysis/feature_extraction.py:203\u001b[0m, in \u001b[0;36mcalculate_track_features\u001b[0;34m(config, metadata, cell_type)\u001b[0m\n\u001b[1;32m    201\u001b[0m distance_unit\u001b[39m=\u001b[39msample_metadata[\u001b[39m'\u001b[39m\u001b[39mdistance_unit\u001b[39m\u001b[39m'\u001b[39m]\n\u001b[1;32m    202\u001b[0m dead_dye_threshold\u001b[39m=\u001b[39msample_metadata[\u001b[39m'\u001b[39m\u001b[39mdead_dye_threshold\u001b[39m\u001b[39m'\u001b[39m]\n\u001b[0;32m--> 203\u001b[0m contact_threshold \u001b[39m=\u001b[39m sample_metadata[\u001b[39m\"\u001b[39;49m\u001b[39mcontact_threshold\u001b[39;49m\u001b[39m\"\u001b[39;49m]\n\u001b[1;32m    204\u001b[0m \u001b[39m# Sometimes excel saves the encoding for µm differently, the following lines converts\u001b[39;00m\n\u001b[1;32m    205\u001b[0m \u001b[39m# other variants of µm to ones comparable in this code\u001b[39;00m\n\u001b[1;32m    206\u001b[0m \u001b[39m# The two written \"μm\" have different formatting\u001b[39;00m\n\u001b[1;32m    207\u001b[0m \u001b[39mif\u001b[39;00m distance_unit\u001b[39m==\u001b[39m\u001b[39m'\u001b[39m\u001b[39m_m\u001b[39m\u001b[39m'\u001b[39m:\n",
      "File \u001b[0;32m~/opt/anaconda3/envs/behav3d/lib/python3.11/site-packages/pandas/core/series.py:1040\u001b[0m, in \u001b[0;36mSeries.__getitem__\u001b[0;34m(self, key)\u001b[0m\n\u001b[1;32m   1037\u001b[0m     \u001b[39mreturn\u001b[39;00m \u001b[39mself\u001b[39m\u001b[39m.\u001b[39m_values[key]\n\u001b[1;32m   1039\u001b[0m \u001b[39melif\u001b[39;00m key_is_scalar:\n\u001b[0;32m-> 1040\u001b[0m     \u001b[39mreturn\u001b[39;00m \u001b[39mself\u001b[39;49m\u001b[39m.\u001b[39;49m_get_value(key)\n\u001b[1;32m   1042\u001b[0m \u001b[39m# Convert generator to list before going through hashable part\u001b[39;00m\n\u001b[1;32m   1043\u001b[0m \u001b[39m# (We will iterate through the generator there to check for slices)\u001b[39;00m\n\u001b[1;32m   1044\u001b[0m \u001b[39mif\u001b[39;00m is_iterator(key):\n",
      "File \u001b[0;32m~/opt/anaconda3/envs/behav3d/lib/python3.11/site-packages/pandas/core/series.py:1156\u001b[0m, in \u001b[0;36mSeries._get_value\u001b[0;34m(self, label, takeable)\u001b[0m\n\u001b[1;32m   1153\u001b[0m     \u001b[39mreturn\u001b[39;00m \u001b[39mself\u001b[39m\u001b[39m.\u001b[39m_values[label]\n\u001b[1;32m   1155\u001b[0m \u001b[39m# Similar to Index.get_value, but we do not fall back to positional\u001b[39;00m\n\u001b[0;32m-> 1156\u001b[0m loc \u001b[39m=\u001b[39m \u001b[39mself\u001b[39;49m\u001b[39m.\u001b[39;49mindex\u001b[39m.\u001b[39;49mget_loc(label)\n\u001b[1;32m   1158\u001b[0m \u001b[39mif\u001b[39;00m is_integer(loc):\n\u001b[1;32m   1159\u001b[0m     \u001b[39mreturn\u001b[39;00m \u001b[39mself\u001b[39m\u001b[39m.\u001b[39m_values[loc]\n",
      "File \u001b[0;32m~/opt/anaconda3/envs/behav3d/lib/python3.11/site-packages/pandas/core/indexes/base.py:3797\u001b[0m, in \u001b[0;36mIndex.get_loc\u001b[0;34m(self, key)\u001b[0m\n\u001b[1;32m   3792\u001b[0m     \u001b[39mif\u001b[39;00m \u001b[39misinstance\u001b[39m(casted_key, \u001b[39mslice\u001b[39m) \u001b[39mor\u001b[39;00m (\n\u001b[1;32m   3793\u001b[0m         \u001b[39misinstance\u001b[39m(casted_key, abc\u001b[39m.\u001b[39mIterable)\n\u001b[1;32m   3794\u001b[0m         \u001b[39mand\u001b[39;00m \u001b[39many\u001b[39m(\u001b[39misinstance\u001b[39m(x, \u001b[39mslice\u001b[39m) \u001b[39mfor\u001b[39;00m x \u001b[39min\u001b[39;00m casted_key)\n\u001b[1;32m   3795\u001b[0m     ):\n\u001b[1;32m   3796\u001b[0m         \u001b[39mraise\u001b[39;00m InvalidIndexError(key)\n\u001b[0;32m-> 3797\u001b[0m     \u001b[39mraise\u001b[39;00m \u001b[39mKeyError\u001b[39;00m(key) \u001b[39mfrom\u001b[39;00m \u001b[39merr\u001b[39;00m\n\u001b[1;32m   3798\u001b[0m \u001b[39mexcept\u001b[39;00m \u001b[39mTypeError\u001b[39;00m:\n\u001b[1;32m   3799\u001b[0m     \u001b[39m# If we have a listlike key, _check_indexing_error will raise\u001b[39;00m\n\u001b[1;32m   3800\u001b[0m     \u001b[39m#  InvalidIndexError. Otherwise we fall through and re-raise\u001b[39;00m\n\u001b[1;32m   3801\u001b[0m     \u001b[39m#  the TypeError.\u001b[39;00m\n\u001b[1;32m   3802\u001b[0m     \u001b[39mself\u001b[39m\u001b[39m.\u001b[39m_check_indexing_error(key)\n",
      "\u001b[0;31mKeyError\u001b[0m: 'contact_threshold'"
     ]
    }
   ],
   "source": [
    "df_tracks = calculate_track_features(config, metadata)\n",
    "df_tracks_filt = filter_tracks(df_tracks, config, metadata)\n",
    "df_tracks_summ = summarize_track_features(df_tracks_filt, config)"
   ]
  }
 ],
 "metadata": {
  "kernelspec": {
   "display_name": "Python 3.11.5 ('behav3d')",
   "language": "python",
   "name": "python3"
  },
  "language_info": {
   "codemirror_mode": {
    "name": "ipython",
    "version": 3
   },
   "file_extension": ".py",
   "mimetype": "text/x-python",
   "name": "python",
   "nbconvert_exporter": "python",
   "pygments_lexer": "ipython3",
   "version": "3.11.5"
  },
  "orig_nbformat": 4,
  "vscode": {
   "interpreter": {
    "hash": "fb06b0a1b56a1aebe32ed36e6d514e80a393d3048d99caaa6684ab7dff46c3ff"
   }
  }
 },
 "nbformat": 4,
 "nbformat_minor": 2
}
