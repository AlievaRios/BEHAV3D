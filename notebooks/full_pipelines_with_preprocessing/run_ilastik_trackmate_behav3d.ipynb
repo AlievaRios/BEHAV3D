{
 "cells": [
  {
   "cell_type": "markdown",
   "metadata": {},
   "source": [
    "# Run BEHAV3D feature extraction and T cell analysis\n",
    "\n",
    "This notebook runs the feature extraction and behavioral analysis pipeline of BEHAV3D\n",
    "\n",
    "To work correctly, it requires the following input:\n",
    "- A metadata ***.csv*** containing information on every sample to be processed\n",
    "- A 4D (tzyx) ***.tiff*** file of the ***T-cell*** segments tracked over time (Segment IDs in multiple timepoints should match)\n",
    "- A 4D (tzyx) ***.tiff*** file of the ***Organoid*** segments tracked over time (Segment IDs in multiple timepoints should match)"
   ]
  },
  {
   "cell_type": "code",
   "execution_count": 1,
   "metadata": {},
   "outputs": [
    {
     "name": "stderr",
     "output_type": "stream",
     "text": [
      "/Users/samdeblank/opt/anaconda3/envs/test/lib/python3.10/site-packages/tqdm/auto.py:21: TqdmWarning: IProgress not found. Please update jupyter and ipywidgets. See https://ipywidgets.readthedocs.io/en/stable/user_install.html\n"
     ]
    },
    {
     "data": {
      "text/plain": [
       "<Figure size 100x100 with 0 Axes>"
      ]
     },
     "metadata": {},
     "output_type": "display_data"
    }
   ],
   "source": [
    "from behav3d.analysis.feature_extraction import (\n",
    "    calculate_track_features,\n",
    "    filter_tracks,\n",
    "    summarize_track_features\n",
    ")\n",
    "from behav3d.analysis.tcell_analysis import run_tcell_analysis\n",
    "from behav3d.analysis.backprojection import backproject_behav3d, save_backprojection\n",
    "\n",
    "import pandas as pd\n",
    "from pathlib import Path"
   ]
  },
  {
   "cell_type": "markdown",
   "metadata": {},
   "source": [
    "### Set BEHAV3D parameters\n",
    "\n",
    "***NOTE*** \n",
    "\n",
    "Dynamic Time Warping seems to work best if all tracks are of equal length. To get tracks to equal length, set both ***tcell_min_track_length*** and ***tcell_max_track_length*** to the same value"
   ]
  },
  {
   "cell_type": "code",
   "execution_count": 2,
   "metadata": {},
   "outputs": [
    {
     "name": "stdout",
     "output_type": "stream",
     "text": [
      "Metadata provided:\n"
     ]
    },
    {
     "data": {
      "text/html": [
       "<div>\n",
       "<style scoped>\n",
       "    .dataframe tbody tr th:only-of-type {\n",
       "        vertical-align: middle;\n",
       "    }\n",
       "\n",
       "    .dataframe tbody tr th {\n",
       "        vertical-align: top;\n",
       "    }\n",
       "\n",
       "    .dataframe thead th {\n",
       "        text-align: right;\n",
       "    }\n",
       "</style>\n",
       "<table border=\"1\" class=\"dataframe\">\n",
       "  <thead>\n",
       "    <tr style=\"text-align: right;\">\n",
       "      <th></th>\n",
       "      <th>sample_name</th>\n",
       "      <th>organoid_line</th>\n",
       "      <th>tcell_line</th>\n",
       "      <th>exp_nr</th>\n",
       "      <th>well</th>\n",
       "      <th>dead_dye_channel</th>\n",
       "      <th>dead_dye_threshold</th>\n",
       "      <th>contact_threshold</th>\n",
       "      <th>pixel_distance_xy</th>\n",
       "      <th>pixel_distance_z</th>\n",
       "      <th>distance_unit</th>\n",
       "      <th>time_interval</th>\n",
       "      <th>time_unit</th>\n",
       "      <th>raw_image_path</th>\n",
       "      <th>tcell_segments_path</th>\n",
       "      <th>organoid_segments_path</th>\n",
       "      <th>tcell_track_csv</th>\n",
       "    </tr>\n",
       "  </thead>\n",
       "  <tbody>\n",
       "    <tr>\n",
       "      <th>0</th>\n",
       "      <td>AIM_MB2_Exp58_Img003_donor899</td>\n",
       "      <td>10T</td>\n",
       "      <td>CART_WT1</td>\n",
       "      <td>1</td>\n",
       "      <td>well0</td>\n",
       "      <td>3</td>\n",
       "      <td>3000</td>\n",
       "      <td>3.6</td>\n",
       "      <td>1.38</td>\n",
       "      <td>1.38</td>\n",
       "      <td>μm</td>\n",
       "      <td>2</td>\n",
       "      <td>m</td>\n",
       "      <td>/Users/samdeblank/Documents/1.projects/BHVD_BE...</td>\n",
       "      <td>/Users/samdeblank/Documents/1.projects/BHVD_BE...</td>\n",
       "      <td>/Users/samdeblank/Documents/1.projects/BHVD_BE...</td>\n",
       "      <td>/Users/samdeblank/Documents/1.projects/BHVD_BE...</td>\n",
       "    </tr>\n",
       "  </tbody>\n",
       "</table>\n",
       "</div>"
      ],
      "text/plain": [
       "                     sample_name organoid_line tcell_line  exp_nr   well  \\\n",
       "0  AIM_MB2_Exp58_Img003_donor899           10T   CART_WT1       1  well0   \n",
       "\n",
       "   dead_dye_channel  dead_dye_threshold  contact_threshold  pixel_distance_xy  \\\n",
       "0                 3                3000                3.6               1.38   \n",
       "\n",
       "   pixel_distance_z distance_unit  time_interval time_unit  \\\n",
       "0              1.38            μm              2         m   \n",
       "\n",
       "                                      raw_image_path  \\\n",
       "0  /Users/samdeblank/Documents/1.projects/BHVD_BE...   \n",
       "\n",
       "                                 tcell_segments_path  \\\n",
       "0  /Users/samdeblank/Documents/1.projects/BHVD_BE...   \n",
       "\n",
       "                              organoid_segments_path  \\\n",
       "0  /Users/samdeblank/Documents/1.projects/BHVD_BE...   \n",
       "\n",
       "                                     tcell_track_csv  \n",
       "0  /Users/samdeblank/Documents/1.projects/BHVD_BE...  "
      ]
     },
     "execution_count": 2,
     "metadata": {},
     "output_type": "execute_result"
    }
   ],
   "source": [
    "### Path for the output files generated by the pipeline\n",
    "output_dir = \"/Users/samdeblank/Documents/1.projects/BHVD_BEHAV3D/BEHAV3D-ilastik/test/BEHAV3D_run/behav3d_output\"\n",
    "### Path to the metadata csv that contains experiment specific information\n",
    "metadata_csv_path = \"/Users/samdeblank/Documents/1.projects/BHVD_BEHAV3D/BEHAV3D-ilastik/test/BEHAV3D_run/metadata.csv\"\n",
    "\n",
    "#####################################################\n",
    "######## Preprocessing paths and parameters #########\n",
    "#####################################################\n",
    "\n",
    "### Path to the Ilastik app (run_ilastik.sh)\n",
    "ilastik_path: \"/Applications/ilastik-1.4.0b27-OSX.app/Contents/ilastik-release/run_ilastik.sh\"\n",
    "### Paths to the Ilastik project files (.ilp)\n",
    "ilastik_pixel_classifier_model: \"/Users/samdeblank/Documents/1.projects/BHVD_BEHAV3D/BEHAV3D-ilastik/ilastik_pipelines/AIM_MB2_pixel_class.ilp\"\n",
    "ilastik_organoid_segmentation_model: \"/Users/samdeblank/Documents/1.projects/BHVD_BEHAV3D/BEHAV3D-ilastik/ilastik_pipelines/AIM_MB2_organoid_class.ilp\"\n",
    "ilastik_tcell_segmentation_model: \"/Users/samdeblank/Documents/1.projects/BHVD_BEHAV3D/BEHAV3D-ilastik/ilastik_pipelines/AIM_MB2_tcell_class.ilp\"\n",
    "ilastik_organoid_postprocessing_model: \"/Users/samdeblank/Documents/1.projects/BHVD_BEHAV3D/BEHAV3D-ilastik/ilastik_pipelines/AIM_MB2_object_splitter.ilp\"\n",
    "ilastik_tcell_postprocessing_model: \"/Users/samdeblank/Documents/1.projects/BHVD_BEHAV3D/BEHAV3D-ilastik/ilastik_pipelines/AIM_MB2_object_splitter.ilp\"\n",
    "\n",
    "#####################################################\n",
    "################ Filter parameters ##################\n",
    "#####################################################\n",
    "\n",
    "### Maximum length of experiment (all timepoints this timepoint after will be removed)\n",
    "######### Change this if your quality of imaging significantly reduces after a certain timepoint\n",
    "tcell_exp_duration = 300\n",
    "### Minimum track length to take into analysis. Filters out tracks shorter than this value\n",
    "######### For example removes tracks for segmentation or tracking errors\n",
    "tcell_min_track_length = 30\n",
    "### Maximum track length to take into analysis. Cut longer tracks to the length defined below\n",
    "######### Shortens tracks so that tracks of same length could be compared \n",
    "tcell_max_track_length = 100\n",
    "\n",
    "#########################################################\n",
    "### (Optional) parameters for behavioural clustering  ###\n",
    "#########################################################\n",
    "\n",
    "### Decrease for more resolution in the UMAP\n",
    "umap_minimal_distance = 0.1\n",
    "### Increase if you have a larger number of cells\n",
    "umap_n_neighbors = 5\n",
    "### Change to decrease/increase the number of clusters \n",
    "nr_of_clusters = 6\n",
    "\n",
    "### The features to used in the Dynamic Time Warping to compare the tracks\n",
    "dtw_features = [\n",
    "    \"z_mean_square_displacement\", \n",
    "    \"z_speed\", \n",
    "    \"z_mean_dead_dye\", \n",
    "    \"tcell_contact\", \n",
    "    \"organoid_contact\"\n",
    "    ]\n",
    "\n",
    "\n",
    "### Read in the metadata file and display it\n",
    "metadata = pd.read_csv(metadata_csv_path)\n",
    "print(\"Metadata provided:\")\n",
    "metadata"
   ]
  },
  {
   "cell_type": "markdown",
   "metadata": {},
   "source": [
    "### Check correct usage of metadata.csv\n",
    "\n",
    "Checks the supplied metadata .csv for:\n",
    "- Are all columns filled in?\n",
    "- Do the paths supplied per row exist?"
   ]
  },
  {
   "cell_type": "code",
   "execution_count": 3,
   "metadata": {},
   "outputs": [
    {
     "name": "stdout",
     "output_type": "stream",
     "text": [
      "Metadata file is OK!\n"
     ]
    }
   ],
   "source": [
    "assert not any(metadata.isna().any()), \"Some column values have not been supplied. Make sure you correctly supply values for all columns in the metadata .csv\"\n",
    "\n",
    "for rowidx, sample_metadata in metadata.iterrows():\n",
    "    sample_name = sample_metadata['sample_name']\n",
    "    assert Path(sample_metadata[\"raw_image_path\"]).exists(), f\"The image_path supplied for Row {rowidx+1} '{sample_name}' does not exist\"\n",
    "    assert Path(sample_metadata[\"tcell_segments_path\"]).exists(), f\"The tcell_segments_path supplied for Row {rowidx+1} '{sample_name}' does not exist\"\n",
    "    assert Path(sample_metadata[\"organoid_segments_path\"]).exists(), f\"The organoid_segments_path supplied for Row {rowidx+1} '{sample_name}' does not exist\"\n",
    "    assert Path(sample_metadata[\"tcell_track_csv\"]).exists(), f\"The tcell_track_csv supplied for Row {rowidx+1} '{sample_name}' does not exist\"\n",
    "print(\"Metadata file is OK!\")"
   ]
  },
  {
   "cell_type": "markdown",
   "metadata": {},
   "source": [
    "---\n",
    "\n",
    "# Performing ilastik segmentation\n",
    "\n",
    "---\n",
    "\n",
    "Uses the pretrained supplied ilastik models for pixel classification, object detection and object postprocessing (object splitting) for both T cells and Organoids/Tumor cells"
   ]
  },
  {
   "cell_type": "code",
   "execution_count": null,
   "metadata": {},
   "outputs": [],
   "source": [
    "run_ilastik_segmentation(config, metadata, verbose=False)"
   ]
  },
  {
   "cell_type": "markdown",
   "metadata": {},
   "source": [
    "---\n",
    "\n",
    "# Performing TrackMate tracking\n",
    "\n",
    "---\n",
    "\n",
    "Applies TrackMate for the tracking of the T cells and organoids/tumor cells over all timepoints"
   ]
  },
  {
   "cell_type": "code",
   "execution_count": null,
   "metadata": {},
   "outputs": [],
   "source": [
    "run_trackmate_tcells(config, metadata, verbose=False)\n",
    "run_trackmate_organoids(config, metadata, verbose=False)"
   ]
  },
  {
   "cell_type": "markdown",
   "metadata": {},
   "source": [
    "---\n",
    "\n",
    "# Calculate the track features, filter tracks and summarize track features\n",
    "\n",
    "---\n",
    "\n",
    "**calculate_track_features** <br>\n",
    "Calculates movement, contact and intensity features for each timepoint in all tracks per experiment\n",
    "\n",
    "**filter_tracks** <br>\n",
    "Filter out tracks based on:\n",
    "- Maximum experiment length (tcell_exp_duration)    \n",
    "- Minimum track length (tcell_min_track_length)\n",
    "- Tracks starting at timepoint 1 with a dead dye mean over the dead_dye_threshold (dead_dye_threshold)\n",
    "\n",
    "Additonally, all tracks are cut down to:\n",
    "- Maximum track length (tcell_max_track_length)\n",
    "\n",
    "**summarize_track_features** <br>\n",
    "Summarizes the features into one value for each TrackID per experiment\n",
    "\n",
    "--------------------\n"
   ]
  },
  {
   "cell_type": "markdown",
   "metadata": {},
   "source": [
    "## T cells\n",
    "\n",
    "**Calculation of track features**\n",
    "\n",
    "*Expected duration: ~30 minutes*"
   ]
  },
  {
   "cell_type": "code",
   "execution_count": 4,
   "metadata": {},
   "outputs": [
    {
     "name": "stdout",
     "output_type": "stream",
     "text": [
      "--------------- Processing tcells: AIM_MB2_Exp58_Img003_donor899 ---------------\n",
      "###### Running track feature calculation\n",
      "- Loading in tracks csv...\n",
      "- Calculating contact with organoids and other T cells...\n",
      "Using a contact threshold of 3.6μm\n",
      "- Calculating channel and especially death dye intensities...\n",
      "- Interpolating missing timepoints based on time interval\n",
      "- Calculating cell death based on defined dead_dye_threshold 3000\n",
      "- Converting distance and time unit to default µm and hours...\n",
      "- Calculating movement features...\n",
      "- Determining active contact of T cells\n",
      "- Perform z-normalization on selected feature columns\n",
      "- Writing output to /Users/samdeblank/Documents/1.projects/BHVD_BEHAV3D/BEHAV3D-ilastik/test/BEHAV3D_run/behav3d_output/trackdata/AIM_MB2_Exp58_Img003_donor899/AIM_MB2_Exp58_Img003_donor899_tcells_track_features.csv\n",
      "### DONE - elapsed time: 0:27:30\n",
      "\n"
     ]
    }
   ],
   "source": [
    "df_tracks = calculate_track_features(\n",
    "    metadata=metadata, \n",
    "    output_dir=output_dir, \n",
    "    cell_type=\"tcells\"\n",
    "    )"
   ]
  },
  {
   "cell_type": "markdown",
   "metadata": {},
   "source": [
    "**Filtering tracks and summarizing features**\n",
    "\n",
    "*Expected duration: <1 minute*"
   ]
  },
  {
   "cell_type": "code",
   "execution_count": 7,
   "metadata": {},
   "outputs": [
    {
     "name": "stdout",
     "output_type": "stream",
     "text": [
      "--------------- Filtering tracks ---------------\n",
      "- Writing filtered tracks to /Users/samdeblank/Documents/1.projects/BHVD_BEHAV3D/BEHAV3D-ilastik/test/BEHAV3D_run/behav3d_output/analysis/tcells/track_features/BEHAV3D_combined_track_features_filtered.csv\n",
      "### DONE - elapsed time: 0:00:00\n",
      "\n",
      "--------------- Summarizing track features ---------------\n",
      "- Writing summarized tracks to /Users/samdeblank/Documents/1.projects/BHVD_BEHAV3D/BEHAV3D-ilastik/test/BEHAV3D_run/behav3d_output/analysis/tcells/track_features/BEHAV3D_combined_track_features_summarized.csv\n",
      "### DONE - elapsed time: 0:00:00\n",
      "\n"
     ]
    }
   ],
   "source": [
    "df_tracks=pd.read_csv(Path(output_dir, \"analysis/tcells/track_features/BEHAV3D_combined_track_features.csv\"))\n",
    "df_tracks_filt = filter_tracks(\n",
    "    df_tracks,\n",
    "    metadata=metadata, \n",
    "    output_dir=output_dir, \n",
    "    tcell_exp_duration=tcell_exp_duration,\n",
    "    tcell_min_track_length=tcell_min_track_length,\n",
    "    tcell_max_track_length=tcell_max_track_length,\n",
    "    cell_type=\"tcells\"\n",
    "    )\n",
    "df_tracks_summ = summarize_track_features(\n",
    "    df_tracks_filt, \n",
    "    output_dir=output_dir,\n",
    "    cell_type=\"tcells\")"
   ]
  },
  {
   "cell_type": "markdown",
   "metadata": {},
   "source": [
    "## Organoids\n",
    "*IN DEVELOPMENT*"
   ]
  },
  {
   "cell_type": "code",
   "execution_count": null,
   "metadata": {},
   "outputs": [],
   "source": [
    "# df_tracks = calculate_track_features(\n",
    "#     config, metadata, cell_type=\"organoids\")"
   ]
  },
  {
   "cell_type": "markdown",
   "metadata": {},
   "source": [
    "---\n",
    "\n",
    "# Perform data analysis\n",
    "\n",
    "---"
   ]
  },
  {
   "cell_type": "markdown",
   "metadata": {},
   "source": [
    "## T cell behavioral analysis\n",
    "\n",
    "***Dynamic Time Warping*** <br>\n",
    "\n",
    "Performs Dynamic Time Warping on the various tracks using various features to calculate a distance matrix between all tracks\n",
    "\n",
    "Features used for dynamic time warping by default:\n",
    "- z_mean_square_displacement\n",
    "- z_speed\n",
    "- z_mean_dead_dye\n",
    "- tcell_contact\n",
    "- organoid_contact\n",
    "\n",
    "***UMAP fitting and clustering*** <br>\n",
    "\n",
    "This distance matrix is fitted into a UMAP, and K-means clustering is used to cluster the tracks into clusters\n",
    "\n",
    "Parameters for UMAP and clustering can be adjusted in the config file:\n",
    "- umap_minimal_distance\n",
    "- umap_n_neighbors\n",
    "- nr_of_clusters\n",
    "\n",
    "***Cluster features display*** <br>\n",
    "\n",
    "The results of the clustering are displayed in multiple ways:\n",
    "- The UMAP with clusters and features backprojected onto this UMAP (BEHAV3D_UMAP_clusters.csv)\n",
    "- A heatmap containing the mean feature values for all tracks per cluster to check general behavior patterns (BEHAV3D_UMAP_cluster_feature_heatmap.pdf)\n",
    "- A barplot containing the percentages of cells belonging to each cluster per Tcell type (rows) and organoid lines (columns)\n"
   ]
  },
  {
   "cell_type": "code",
   "execution_count": 4,
   "metadata": {},
   "outputs": [
    {
     "name": "stdout",
     "output_type": "stream",
     "text": [
      "Warning: The track lengths are not cut to similar length, this might influence dynamic time warping\n",
      "Set 'tcell_min_track_length' and 'tcell_max_track_length' to the same value to create equal tracks\n",
      "- Calculating the dynamic time warping distance matrix\n",
      "- Fitting the dynamic time warping to a UMAP\n"
     ]
    },
    {
     "name": "stderr",
     "output_type": "stream",
     "text": [
      "OMP: Info #276: omp_set_nested routine deprecated, please use omp_set_max_active_levels instead.\n"
     ]
    },
    {
     "name": "stdout",
     "output_type": "stream",
     "text": [
      "- Performing clustering on the UMAP data\n",
      "- Writing clustered tracks to /Users/samdeblank/Documents/1.projects/BHVD_BEHAV3D/BEHAV3D-ilastik/test/BEHAV3D_run/behav3d_output/analysis/tcells/results/BEHAV3D_UMAP_clusters.csv\n",
      "- Producing clustered UMAP plots with displayed Track features\n",
      "- Producing heatmaps with summarized cluster features\n",
      "- Producing percentage plots of each cluster per combination of T-cell and organoid line\n",
      "- Writing summarized tracks to /Users/samdeblank/Documents/1.projects/BHVD_BEHAV3D/BEHAV3D-ilastik/test/BEHAV3D_run/behav3d_output/analysis/tcells/results/BEHAV3D_UMAP_cluster_percentages.csv\n"
     ]
    }
   ],
   "source": [
    "df_tracks_clustered = run_tcell_analysis(\n",
    "    output_dir=output_dir,\n",
    "    umap_minimal_distance=umap_minimal_distance,\n",
    "    umap_n_neighbors=umap_n_neighbors,\n",
    "    nr_of_clusters=nr_of_clusters,\n",
    "    dtw_features= dtw_features\n",
    "    )"
   ]
  },
  {
   "cell_type": "markdown",
   "metadata": {},
   "source": [
    "---\n",
    "\n",
    "# Backproject results\n",
    "\n",
    "---\n",
    "\n",
    "**Visualize the cluster IDs and other features over the segments**\n",
    " <br>\n",
    " \n",
    "*Duration: <10 minutes*\n"
   ]
  },
  {
   "cell_type": "code",
   "execution_count": 3,
   "metadata": {},
   "outputs": [
    {
     "name": "stdout",
     "output_type": "stream",
     "text": [
      "Samples in metadata .csv:\n",
      "AIM_MB2_Exp58_Img003_donor899\n"
     ]
    }
   ],
   "source": [
    "print(\"Samples in metadata .csv:\")\n",
    "for sample_name in metadata[\"sample_name\"]:\n",
    "    print(sample_name)"
   ]
  },
  {
   "cell_type": "code",
   "execution_count": 3,
   "metadata": {},
   "outputs": [
    {
     "name": "stdout",
     "output_type": "stream",
     "text": [
      "--------------- Backprojecting for AIM_MB2_Exp58_Img003_donor899 ---------------\n",
      "- Loading in tracked segments\n",
      "- Backprojecting all features onto each segment\n",
      "Backprojecting: track_length\n",
      "Backprojecting: mean_dead_dye\n",
      "Backprojecting: mean_MSD\n",
      "Backprojecting: mean_speed\n",
      "Backprojecting: mean_organoid_contact\n",
      "Backprojecting: mean_tcell_contact\n",
      "Backprojecting: mean_displacement\n",
      "Backprojecting: dies\n",
      "Backprojecting: displacement_from_origin\n",
      "Backprojecting: cumulative_displacement\n",
      "Backprojecting: active_tcell_contact\n",
      "Backprojecting: ClusterID\n",
      "- Visualizing backprojection in napari\n",
      "### DONE - elapsed time: 0:07:19\n",
      "\n"
     ]
    }
   ],
   "source": [
    "sample_to_backproject=\"AIM_MB2_Exp58_Img003_donor899\"\n",
    "\n",
    "backprojection_data = backproject_behav3d(\n",
    "    sample_name=sample_to_backproject,\n",
    "    metadata=metadata,\n",
    "    output_dir=output_dir,\n",
    "    save=False\n",
    ")"
   ]
  },
  {
   "cell_type": "markdown",
   "metadata": {},
   "source": [
    "**Optionally save it as a compressed .h5**\n",
    " <br>\n",
    " \n",
    "*Duration: <10 minutes*"
   ]
  },
  {
   "cell_type": "code",
   "execution_count": 4,
   "metadata": {},
   "outputs": [
    {
     "name": "stdout",
     "output_type": "stream",
     "text": [
      "--------------- Saving backprojection to /Users/samdeblank/Documents/1.projects/BHVD_BEHAV3D/BEHAV3D-ilastik/test/BEHAV3D_run/behav3d_output/analysis/tcells/backprojection/AIM_MB2_Exp58_Img003_donor899_tcells_tracked_backprojected.h5 ---------------\n",
      "None\n"
     ]
    }
   ],
   "source": [
    "save_backprojection(\n",
    "    backproj_out_path=backprojection_data[\"path\"],\n",
    "    backprojection_data = backprojection_data[\"data\"],\n",
    "    elsize = backprojection_data[\"elsize\"]\n",
    "    \n",
    ")"
   ]
  }
 ],
 "metadata": {
  "kernelspec": {
   "display_name": "Python 3.11.5 ('behav3d')",
   "language": "python",
   "name": "python3"
  },
  "language_info": {
   "codemirror_mode": {
    "name": "ipython",
    "version": 3
   },
   "file_extension": ".py",
   "mimetype": "text/x-python",
   "name": "python",
   "nbconvert_exporter": "python",
   "pygments_lexer": "ipython3",
   "version": "3.10.0"
  },
  "orig_nbformat": 4,
  "vscode": {
   "interpreter": {
    "hash": "fb06b0a1b56a1aebe32ed36e6d514e80a393d3048d99caaa6684ab7dff46c3ff"
   }
  }
 },
 "nbformat": 4,
 "nbformat_minor": 2
}
